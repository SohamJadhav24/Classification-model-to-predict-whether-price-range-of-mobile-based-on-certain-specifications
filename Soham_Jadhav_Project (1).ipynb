{
  "nbformat": 4,
  "nbformat_minor": 0,
  "metadata": {
    "colab": {
      "provenance": []
    },
    "kernelspec": {
      "name": "python3",
      "display_name": "Python 3"
    },
    "language_info": {
      "name": "python"
    }
  },
  "cells": [
    {
      "cell_type": "markdown",
      "source": [
        "# **Problem statement: Create a classification model to predict whether price range of mobile based on certain specifications**"
      ],
      "metadata": {
        "id": "1MKJbsiVqIQC"
      }
    },
    {
      "cell_type": "code",
      "execution_count": null,
      "metadata": {
        "id": "zUoo-DaEuWEE"
      },
      "outputs": [],
      "source": [
        "import numpy as np\n",
        "import pandas as pd\n",
        "import matplotlib.pylab as plt\n",
        "import seaborn as sns"
      ]
    },
    {
      "cell_type": "code",
      "source": [
        "df = pd.read_csv('Mobile_price_range_data.csv')\n",
        "df.head()"
      ],
      "metadata": {
        "colab": {
          "base_uri": "https://localhost:8080/",
          "height": 300
        },
        "id": "sIfXnv6NxOKu",
        "outputId": "47a48353-046b-4066-b231-8089f6e54ec8"
      },
      "execution_count": null,
      "outputs": [
        {
          "output_type": "execute_result",
          "data": {
            "text/plain": [
              "   battery_power  blue  clock_speed  dual_sim  fc  four_g  int_memory  m_dep  \\\n",
              "0            842     0          2.2         0   1       0           7    0.6   \n",
              "1           1021     1          0.5         1   0       1          53    0.7   \n",
              "2            563     1          0.5         1   2       1          41    0.9   \n",
              "3            615     1          2.5         0   0       0          10    0.8   \n",
              "4           1821     1          1.2         0  13       1          44    0.6   \n",
              "\n",
              "   mobile_wt  n_cores  ...  px_height  px_width   ram  sc_h  sc_w  talk_time  \\\n",
              "0        188        2  ...         20       756  2549     9     7         19   \n",
              "1        136        3  ...        905      1988  2631    17     3          7   \n",
              "2        145        5  ...       1263      1716  2603    11     2          9   \n",
              "3        131        6  ...       1216      1786  2769    16     8         11   \n",
              "4        141        2  ...       1208      1212  1411     8     2         15   \n",
              "\n",
              "   three_g  touch_screen  wifi  price_range  \n",
              "0        0             0     1            1  \n",
              "1        1             1     0            2  \n",
              "2        1             1     0            2  \n",
              "3        1             0     0            2  \n",
              "4        1             1     0            1  \n",
              "\n",
              "[5 rows x 21 columns]"
            ],
            "text/html": [
              "\n",
              "  <div id=\"df-2d48429b-8231-46d4-95ac-d11bd701db39\">\n",
              "    <div class=\"colab-df-container\">\n",
              "      <div>\n",
              "<style scoped>\n",
              "    .dataframe tbody tr th:only-of-type {\n",
              "        vertical-align: middle;\n",
              "    }\n",
              "\n",
              "    .dataframe tbody tr th {\n",
              "        vertical-align: top;\n",
              "    }\n",
              "\n",
              "    .dataframe thead th {\n",
              "        text-align: right;\n",
              "    }\n",
              "</style>\n",
              "<table border=\"1\" class=\"dataframe\">\n",
              "  <thead>\n",
              "    <tr style=\"text-align: right;\">\n",
              "      <th></th>\n",
              "      <th>battery_power</th>\n",
              "      <th>blue</th>\n",
              "      <th>clock_speed</th>\n",
              "      <th>dual_sim</th>\n",
              "      <th>fc</th>\n",
              "      <th>four_g</th>\n",
              "      <th>int_memory</th>\n",
              "      <th>m_dep</th>\n",
              "      <th>mobile_wt</th>\n",
              "      <th>n_cores</th>\n",
              "      <th>...</th>\n",
              "      <th>px_height</th>\n",
              "      <th>px_width</th>\n",
              "      <th>ram</th>\n",
              "      <th>sc_h</th>\n",
              "      <th>sc_w</th>\n",
              "      <th>talk_time</th>\n",
              "      <th>three_g</th>\n",
              "      <th>touch_screen</th>\n",
              "      <th>wifi</th>\n",
              "      <th>price_range</th>\n",
              "    </tr>\n",
              "  </thead>\n",
              "  <tbody>\n",
              "    <tr>\n",
              "      <th>0</th>\n",
              "      <td>842</td>\n",
              "      <td>0</td>\n",
              "      <td>2.2</td>\n",
              "      <td>0</td>\n",
              "      <td>1</td>\n",
              "      <td>0</td>\n",
              "      <td>7</td>\n",
              "      <td>0.6</td>\n",
              "      <td>188</td>\n",
              "      <td>2</td>\n",
              "      <td>...</td>\n",
              "      <td>20</td>\n",
              "      <td>756</td>\n",
              "      <td>2549</td>\n",
              "      <td>9</td>\n",
              "      <td>7</td>\n",
              "      <td>19</td>\n",
              "      <td>0</td>\n",
              "      <td>0</td>\n",
              "      <td>1</td>\n",
              "      <td>1</td>\n",
              "    </tr>\n",
              "    <tr>\n",
              "      <th>1</th>\n",
              "      <td>1021</td>\n",
              "      <td>1</td>\n",
              "      <td>0.5</td>\n",
              "      <td>1</td>\n",
              "      <td>0</td>\n",
              "      <td>1</td>\n",
              "      <td>53</td>\n",
              "      <td>0.7</td>\n",
              "      <td>136</td>\n",
              "      <td>3</td>\n",
              "      <td>...</td>\n",
              "      <td>905</td>\n",
              "      <td>1988</td>\n",
              "      <td>2631</td>\n",
              "      <td>17</td>\n",
              "      <td>3</td>\n",
              "      <td>7</td>\n",
              "      <td>1</td>\n",
              "      <td>1</td>\n",
              "      <td>0</td>\n",
              "      <td>2</td>\n",
              "    </tr>\n",
              "    <tr>\n",
              "      <th>2</th>\n",
              "      <td>563</td>\n",
              "      <td>1</td>\n",
              "      <td>0.5</td>\n",
              "      <td>1</td>\n",
              "      <td>2</td>\n",
              "      <td>1</td>\n",
              "      <td>41</td>\n",
              "      <td>0.9</td>\n",
              "      <td>145</td>\n",
              "      <td>5</td>\n",
              "      <td>...</td>\n",
              "      <td>1263</td>\n",
              "      <td>1716</td>\n",
              "      <td>2603</td>\n",
              "      <td>11</td>\n",
              "      <td>2</td>\n",
              "      <td>9</td>\n",
              "      <td>1</td>\n",
              "      <td>1</td>\n",
              "      <td>0</td>\n",
              "      <td>2</td>\n",
              "    </tr>\n",
              "    <tr>\n",
              "      <th>3</th>\n",
              "      <td>615</td>\n",
              "      <td>1</td>\n",
              "      <td>2.5</td>\n",
              "      <td>0</td>\n",
              "      <td>0</td>\n",
              "      <td>0</td>\n",
              "      <td>10</td>\n",
              "      <td>0.8</td>\n",
              "      <td>131</td>\n",
              "      <td>6</td>\n",
              "      <td>...</td>\n",
              "      <td>1216</td>\n",
              "      <td>1786</td>\n",
              "      <td>2769</td>\n",
              "      <td>16</td>\n",
              "      <td>8</td>\n",
              "      <td>11</td>\n",
              "      <td>1</td>\n",
              "      <td>0</td>\n",
              "      <td>0</td>\n",
              "      <td>2</td>\n",
              "    </tr>\n",
              "    <tr>\n",
              "      <th>4</th>\n",
              "      <td>1821</td>\n",
              "      <td>1</td>\n",
              "      <td>1.2</td>\n",
              "      <td>0</td>\n",
              "      <td>13</td>\n",
              "      <td>1</td>\n",
              "      <td>44</td>\n",
              "      <td>0.6</td>\n",
              "      <td>141</td>\n",
              "      <td>2</td>\n",
              "      <td>...</td>\n",
              "      <td>1208</td>\n",
              "      <td>1212</td>\n",
              "      <td>1411</td>\n",
              "      <td>8</td>\n",
              "      <td>2</td>\n",
              "      <td>15</td>\n",
              "      <td>1</td>\n",
              "      <td>1</td>\n",
              "      <td>0</td>\n",
              "      <td>1</td>\n",
              "    </tr>\n",
              "  </tbody>\n",
              "</table>\n",
              "<p>5 rows × 21 columns</p>\n",
              "</div>\n",
              "      <button class=\"colab-df-convert\" onclick=\"convertToInteractive('df-2d48429b-8231-46d4-95ac-d11bd701db39')\"\n",
              "              title=\"Convert this dataframe to an interactive table.\"\n",
              "              style=\"display:none;\">\n",
              "        \n",
              "  <svg xmlns=\"http://www.w3.org/2000/svg\" height=\"24px\"viewBox=\"0 0 24 24\"\n",
              "       width=\"24px\">\n",
              "    <path d=\"M0 0h24v24H0V0z\" fill=\"none\"/>\n",
              "    <path d=\"M18.56 5.44l.94 2.06.94-2.06 2.06-.94-2.06-.94-.94-2.06-.94 2.06-2.06.94zm-11 1L8.5 8.5l.94-2.06 2.06-.94-2.06-.94L8.5 2.5l-.94 2.06-2.06.94zm10 10l.94 2.06.94-2.06 2.06-.94-2.06-.94-.94-2.06-.94 2.06-2.06.94z\"/><path d=\"M17.41 7.96l-1.37-1.37c-.4-.4-.92-.59-1.43-.59-.52 0-1.04.2-1.43.59L10.3 9.45l-7.72 7.72c-.78.78-.78 2.05 0 2.83L4 21.41c.39.39.9.59 1.41.59.51 0 1.02-.2 1.41-.59l7.78-7.78 2.81-2.81c.8-.78.8-2.07 0-2.86zM5.41 20L4 18.59l7.72-7.72 1.47 1.35L5.41 20z\"/>\n",
              "  </svg>\n",
              "      </button>\n",
              "      \n",
              "  <style>\n",
              "    .colab-df-container {\n",
              "      display:flex;\n",
              "      flex-wrap:wrap;\n",
              "      gap: 12px;\n",
              "    }\n",
              "\n",
              "    .colab-df-convert {\n",
              "      background-color: #E8F0FE;\n",
              "      border: none;\n",
              "      border-radius: 50%;\n",
              "      cursor: pointer;\n",
              "      display: none;\n",
              "      fill: #1967D2;\n",
              "      height: 32px;\n",
              "      padding: 0 0 0 0;\n",
              "      width: 32px;\n",
              "    }\n",
              "\n",
              "    .colab-df-convert:hover {\n",
              "      background-color: #E2EBFA;\n",
              "      box-shadow: 0px 1px 2px rgba(60, 64, 67, 0.3), 0px 1px 3px 1px rgba(60, 64, 67, 0.15);\n",
              "      fill: #174EA6;\n",
              "    }\n",
              "\n",
              "    [theme=dark] .colab-df-convert {\n",
              "      background-color: #3B4455;\n",
              "      fill: #D2E3FC;\n",
              "    }\n",
              "\n",
              "    [theme=dark] .colab-df-convert:hover {\n",
              "      background-color: #434B5C;\n",
              "      box-shadow: 0px 1px 3px 1px rgba(0, 0, 0, 0.15);\n",
              "      filter: drop-shadow(0px 1px 2px rgba(0, 0, 0, 0.3));\n",
              "      fill: #FFFFFF;\n",
              "    }\n",
              "  </style>\n",
              "\n",
              "      <script>\n",
              "        const buttonEl =\n",
              "          document.querySelector('#df-2d48429b-8231-46d4-95ac-d11bd701db39 button.colab-df-convert');\n",
              "        buttonEl.style.display =\n",
              "          google.colab.kernel.accessAllowed ? 'block' : 'none';\n",
              "\n",
              "        async function convertToInteractive(key) {\n",
              "          const element = document.querySelector('#df-2d48429b-8231-46d4-95ac-d11bd701db39');\n",
              "          const dataTable =\n",
              "            await google.colab.kernel.invokeFunction('convertToInteractive',\n",
              "                                                     [key], {});\n",
              "          if (!dataTable) return;\n",
              "\n",
              "          const docLinkHtml = 'Like what you see? Visit the ' +\n",
              "            '<a target=\"_blank\" href=https://colab.research.google.com/notebooks/data_table.ipynb>data table notebook</a>'\n",
              "            + ' to learn more about interactive tables.';\n",
              "          element.innerHTML = '';\n",
              "          dataTable['output_type'] = 'display_data';\n",
              "          await google.colab.output.renderOutput(dataTable, element);\n",
              "          const docLink = document.createElement('div');\n",
              "          docLink.innerHTML = docLinkHtml;\n",
              "          element.appendChild(docLink);\n",
              "        }\n",
              "      </script>\n",
              "    </div>\n",
              "  </div>\n",
              "  "
            ]
          },
          "metadata": {},
          "execution_count": 25
        }
      ]
    },
    {
      "cell_type": "code",
      "source": [
        "df.shape"
      ],
      "metadata": {
        "colab": {
          "base_uri": "https://localhost:8080/"
        },
        "id": "7oFirIqOy5Vv",
        "outputId": "9201447a-003a-4149-87c8-f7a7ac7c4295"
      },
      "execution_count": null,
      "outputs": [
        {
          "output_type": "execute_result",
          "data": {
            "text/plain": [
              "(2000, 21)"
            ]
          },
          "metadata": {},
          "execution_count": 26
        }
      ]
    },
    {
      "cell_type": "code",
      "source": [
        "df.isnull().sum\n",
        "df.dtypes"
      ],
      "metadata": {
        "colab": {
          "base_uri": "https://localhost:8080/"
        },
        "id": "Aw8cctOfzYau",
        "outputId": "621c6977-334a-4d37-f567-8afa009b4879"
      },
      "execution_count": null,
      "outputs": [
        {
          "output_type": "execute_result",
          "data": {
            "text/plain": [
              "battery_power      int64\n",
              "blue               int64\n",
              "clock_speed      float64\n",
              "dual_sim           int64\n",
              "fc                 int64\n",
              "four_g             int64\n",
              "int_memory         int64\n",
              "m_dep            float64\n",
              "mobile_wt          int64\n",
              "n_cores            int64\n",
              "pc                 int64\n",
              "px_height          int64\n",
              "px_width           int64\n",
              "ram                int64\n",
              "sc_h               int64\n",
              "sc_w               int64\n",
              "talk_time          int64\n",
              "three_g            int64\n",
              "touch_screen       int64\n",
              "wifi               int64\n",
              "price_range        int64\n",
              "dtype: object"
            ]
          },
          "metadata": {},
          "execution_count": 27
        }
      ]
    },
    {
      "cell_type": "code",
      "source": [
        "x = df[['ram']]\n",
        "y = df['price_range']\n",
        "print(type(x))\n",
        "print(type(y))"
      ],
      "metadata": {
        "colab": {
          "base_uri": "https://localhost:8080/"
        },
        "id": "V4KWltps0usb",
        "outputId": "ae2258ff-d85d-4561-a749-ac5f23a54dd9"
      },
      "execution_count": null,
      "outputs": [
        {
          "output_type": "stream",
          "name": "stdout",
          "text": [
            "<class 'pandas.core.frame.DataFrame'>\n",
            "<class 'pandas.core.series.Series'>\n"
          ]
        }
      ]
    },
    {
      "cell_type": "code",
      "source": [
        "print(x.shape)\n",
        "print(y.shape)"
      ],
      "metadata": {
        "colab": {
          "base_uri": "https://localhost:8080/"
        },
        "id": "2DGCbGFR1aab",
        "outputId": "61eb821b-488d-4d12-9188-691535f865e2"
      },
      "execution_count": null,
      "outputs": [
        {
          "output_type": "stream",
          "name": "stdout",
          "text": [
            "(2000, 1)\n",
            "(2000,)\n"
          ]
        }
      ]
    },
    {
      "cell_type": "code",
      "source": [
        "from sklearn.model_selection import train_test_split"
      ],
      "metadata": {
        "id": "cdNeO3ch2fjD"
      },
      "execution_count": null,
      "outputs": []
    },
    {
      "cell_type": "code",
      "source": [
        "x_tr,x_te,y_tr,y_te = train_test_split(x,y,test_size = 0.25)\n",
        "print(x_tr.shape)\n",
        "print(x_te.shape)\n",
        "print(y_tr.shape)\n",
        "print(y_te.shape)"
      ],
      "metadata": {
        "colab": {
          "base_uri": "https://localhost:8080/"
        },
        "id": "IU6_s6z82kKu",
        "outputId": "f64d93ed-2139-4d1a-8f44-b27356b7abf6"
      },
      "execution_count": null,
      "outputs": [
        {
          "output_type": "stream",
          "name": "stdout",
          "text": [
            "(1500, 1)\n",
            "(500, 1)\n",
            "(1500,)\n",
            "(500,)\n"
          ]
        }
      ]
    },
    {
      "cell_type": "markdown",
      "source": [
        "# Logistic Regression"
      ],
      "metadata": {
        "id": "POYsSRlLLELQ"
      }
    },
    {
      "cell_type": "code",
      "source": [
        "from sklearn.linear_model import LogisticRegression\n",
        "m1 = LogisticRegression()\n",
        "m1.fit(x_tr,y_tr)"
      ],
      "metadata": {
        "colab": {
          "base_uri": "https://localhost:8080/"
        },
        "id": "VrjkhGCa2muw",
        "outputId": "09cfcd26-388c-4e34-a24f-c2816d5561c1"
      },
      "execution_count": null,
      "outputs": [
        {
          "output_type": "execute_result",
          "data": {
            "text/plain": [
              "LogisticRegression()"
            ]
          },
          "metadata": {},
          "execution_count": 32
        }
      ]
    },
    {
      "cell_type": "code",
      "source": [
        "# Model score in classification is Accuracy\n",
        "print('Training Score',m1.score(x_tr,y_tr))\n",
        "print('Testing Score',m1.score(x_te,y_te))"
      ],
      "metadata": {
        "colab": {
          "base_uri": "https://localhost:8080/"
        },
        "id": "OG4H6Xk_2tyf",
        "outputId": "6099fcb5-85dd-44f0-8eb0-b6a372e2379e"
      },
      "execution_count": null,
      "outputs": [
        {
          "output_type": "stream",
          "name": "stdout",
          "text": [
            "Training Score 0.7566666666666667\n",
            "Testing Score 0.75\n"
          ]
        }
      ]
    },
    {
      "cell_type": "code",
      "source": [
        "from sklearn.metrics import confusion_matrix,classification_report"
      ],
      "metadata": {
        "id": "8Y2WydVv2wIy"
      },
      "execution_count": null,
      "outputs": []
    },
    {
      "cell_type": "code",
      "source": [
        "ypred = m1.predict(x_te)\n",
        "print(ypred)"
      ],
      "metadata": {
        "colab": {
          "base_uri": "https://localhost:8080/"
        },
        "id": "8gZXeNeE21Xv",
        "outputId": "9ef1b3e5-2cc5-46af-aabe-e08e0d0b95f3"
      },
      "execution_count": null,
      "outputs": [
        {
          "output_type": "stream",
          "name": "stdout",
          "text": [
            "[2 3 0 2 1 2 0 2 3 1 1 1 3 2 0 1 3 0 0 1 2 3 1 2 3 2 2 2 1 0 2 3 3 0 1 3 2\n",
            " 3 0 3 0 1 2 0 1 0 3 1 1 2 3 3 3 0 1 0 2 1 3 0 2 0 1 0 2 1 1 0 2 3 2 0 3 2\n",
            " 0 1 2 2 0 3 2 0 3 3 2 1 3 2 0 2 2 3 1 3 3 0 0 0 3 1 2 3 1 1 2 3 0 2 1 2 0\n",
            " 1 0 2 1 1 1 0 2 2 2 1 1 0 2 3 0 0 2 0 1 2 0 1 1 0 2 1 2 3 2 1 0 2 2 3 1 2\n",
            " 3 1 0 0 0 1 1 3 0 2 3 2 3 2 1 0 0 0 3 2 2 3 2 3 3 2 0 1 0 0 2 2 1 2 3 2 2\n",
            " 2 3 0 0 3 1 1 2 0 2 3 3 0 2 0 2 2 1 3 1 0 3 1 3 2 3 0 1 3 3 2 3 2 1 3 2 2\n",
            " 2 1 2 3 2 2 0 0 0 1 1 3 1 1 3 3 1 2 0 0 2 1 2 2 2 0 3 0 1 2 1 0 3 2 1 3 0\n",
            " 0 0 3 1 2 3 0 1 1 1 0 3 1 1 3 0 2 3 1 1 3 3 0 3 3 1 3 0 0 0 2 2 1 2 3 0 3\n",
            " 2 3 1 1 3 2 3 2 2 3 1 1 0 1 1 2 1 3 2 2 1 3 0 0 3 0 1 0 3 0 1 1 0 1 1 3 1\n",
            " 3 2 3 3 2 3 1 3 0 3 0 2 0 1 0 1 3 1 2 0 1 3 1 2 3 0 0 2 3 3 3 0 2 1 3 3 0\n",
            " 0 0 0 0 3 2 2 1 2 1 2 0 1 1 1 3 0 2 3 0 0 2 2 0 3 1 0 1 0 3 0 1 3 1 1 3 3\n",
            " 3 3 2 2 2 2 1 2 3 1 2 3 0 1 0 2 2 1 0 3 0 0 3 2 0 0 1 3 1 0 3 0 3 2 3 1 0\n",
            " 3 3 2 2 3 3 3 0 0 1 3 3 2 3 0 0 2 2 1 3 0 1 2 2 0 0 3 3 2 0 3 0 3 0 2 2 3\n",
            " 1 3 2 0 1 2 2 3 2 1 3 3 0 0 0 3 1 2 0]\n"
          ]
        }
      ]
    },
    {
      "cell_type": "code",
      "source": [
        "cm = confusion_matrix(y_te,ypred)\n",
        "print(cm)\n",
        "print(classification_report(y_te,ypred))\n"
      ],
      "metadata": {
        "colab": {
          "base_uri": "https://localhost:8080/"
        },
        "id": "cqB7akJj24CK",
        "outputId": "c8d993be-bfb3-49a6-c0b3-6e873ca204fe"
      },
      "execution_count": null,
      "outputs": [
        {
          "output_type": "stream",
          "name": "stdout",
          "text": [
            "[[107  18   0   0]\n",
            " [ 18  79  22   0]\n",
            " [  0  18  82  24]\n",
            " [  0   0  25 107]]\n",
            "              precision    recall  f1-score   support\n",
            "\n",
            "           0       0.86      0.86      0.86       125\n",
            "           1       0.69      0.66      0.68       119\n",
            "           2       0.64      0.66      0.65       124\n",
            "           3       0.82      0.81      0.81       132\n",
            "\n",
            "    accuracy                           0.75       500\n",
            "   macro avg       0.75      0.75      0.75       500\n",
            "weighted avg       0.75      0.75      0.75       500\n",
            "\n"
          ]
        }
      ]
    },
    {
      "cell_type": "code",
      "source": [
        "lr_ac= accuracy_score(y_test,y_pred)"
      ],
      "metadata": {
        "id": "DnuV-JMM4hY_"
      },
      "execution_count": null,
      "outputs": []
    },
    {
      "cell_type": "code",
      "source": [
        "lr_ac"
      ],
      "metadata": {
        "colab": {
          "base_uri": "https://localhost:8080/"
        },
        "id": "F22ig5Ck4fnx",
        "outputId": "b2afd119-6da3-4d9d-fa85-b2fa58acf42f"
      },
      "execution_count": null,
      "outputs": [
        {
          "output_type": "execute_result",
          "data": {
            "text/plain": [
              "0.7"
            ]
          },
          "metadata": {},
          "execution_count": 63
        }
      ]
    },
    {
      "cell_type": "markdown",
      "source": [
        "# **Applying KNN**"
      ],
      "metadata": {
        "id": "wXJwRTRnKwgL"
      }
    },
    {
      "cell_type": "code",
      "source": [
        "df.info()"
      ],
      "metadata": {
        "colab": {
          "base_uri": "https://localhost:8080/"
        },
        "id": "RUs10ZSjPU9O",
        "outputId": "ded28d81-8d94-459c-d6af-0f21e2f3829a"
      },
      "execution_count": null,
      "outputs": [
        {
          "output_type": "stream",
          "name": "stdout",
          "text": [
            "<class 'pandas.core.frame.DataFrame'>\n",
            "RangeIndex: 2000 entries, 0 to 1999\n",
            "Data columns (total 21 columns):\n",
            " #   Column         Non-Null Count  Dtype  \n",
            "---  ------         --------------  -----  \n",
            " 0   battery_power  2000 non-null   int64  \n",
            " 1   blue           2000 non-null   int64  \n",
            " 2   clock_speed    2000 non-null   float64\n",
            " 3   dual_sim       2000 non-null   int64  \n",
            " 4   fc             2000 non-null   int64  \n",
            " 5   four_g         2000 non-null   int64  \n",
            " 6   int_memory     2000 non-null   int64  \n",
            " 7   m_dep          2000 non-null   float64\n",
            " 8   mobile_wt      2000 non-null   int64  \n",
            " 9   n_cores        2000 non-null   int64  \n",
            " 10  pc             2000 non-null   int64  \n",
            " 11  px_height      2000 non-null   int64  \n",
            " 12  px_width       2000 non-null   int64  \n",
            " 13  ram            2000 non-null   int64  \n",
            " 14  sc_h           2000 non-null   int64  \n",
            " 15  sc_w           2000 non-null   int64  \n",
            " 16  talk_time      2000 non-null   int64  \n",
            " 17  three_g        2000 non-null   int64  \n",
            " 18  touch_screen   2000 non-null   int64  \n",
            " 19  wifi           2000 non-null   int64  \n",
            " 20  price_range    2000 non-null   int64  \n",
            "dtypes: float64(2), int64(19)\n",
            "memory usage: 328.2 KB\n"
          ]
        }
      ]
    },
    {
      "cell_type": "code",
      "source": [
        "df.iloc[:,13:21]"
      ],
      "metadata": {
        "colab": {
          "base_uri": "https://localhost:8080/",
          "height": 424
        },
        "id": "iIFy9If_TJQe",
        "outputId": "a211118f-8730-4db2-c943-98e3fd113305"
      },
      "execution_count": null,
      "outputs": [
        {
          "output_type": "execute_result",
          "data": {
            "text/plain": [
              "       ram  sc_h  sc_w  talk_time  three_g  touch_screen  wifi  price_range\n",
              "0     2549     9     7         19        0             0     1            1\n",
              "1     2631    17     3          7        1             1     0            2\n",
              "2     2603    11     2          9        1             1     0            2\n",
              "3     2769    16     8         11        1             0     0            2\n",
              "4     1411     8     2         15        1             1     0            1\n",
              "...    ...   ...   ...        ...      ...           ...   ...          ...\n",
              "1995   668    13     4         19        1             1     0            0\n",
              "1996  2032    11    10         16        1             1     1            2\n",
              "1997  3057     9     1          5        1             1     0            3\n",
              "1998   869    18    10         19        1             1     1            0\n",
              "1999  3919    19     4          2        1             1     1            3\n",
              "\n",
              "[2000 rows x 8 columns]"
            ],
            "text/html": [
              "\n",
              "  <div id=\"df-d8a5187d-d75c-4023-9fed-1143b6703045\">\n",
              "    <div class=\"colab-df-container\">\n",
              "      <div>\n",
              "<style scoped>\n",
              "    .dataframe tbody tr th:only-of-type {\n",
              "        vertical-align: middle;\n",
              "    }\n",
              "\n",
              "    .dataframe tbody tr th {\n",
              "        vertical-align: top;\n",
              "    }\n",
              "\n",
              "    .dataframe thead th {\n",
              "        text-align: right;\n",
              "    }\n",
              "</style>\n",
              "<table border=\"1\" class=\"dataframe\">\n",
              "  <thead>\n",
              "    <tr style=\"text-align: right;\">\n",
              "      <th></th>\n",
              "      <th>ram</th>\n",
              "      <th>sc_h</th>\n",
              "      <th>sc_w</th>\n",
              "      <th>talk_time</th>\n",
              "      <th>three_g</th>\n",
              "      <th>touch_screen</th>\n",
              "      <th>wifi</th>\n",
              "      <th>price_range</th>\n",
              "    </tr>\n",
              "  </thead>\n",
              "  <tbody>\n",
              "    <tr>\n",
              "      <th>0</th>\n",
              "      <td>2549</td>\n",
              "      <td>9</td>\n",
              "      <td>7</td>\n",
              "      <td>19</td>\n",
              "      <td>0</td>\n",
              "      <td>0</td>\n",
              "      <td>1</td>\n",
              "      <td>1</td>\n",
              "    </tr>\n",
              "    <tr>\n",
              "      <th>1</th>\n",
              "      <td>2631</td>\n",
              "      <td>17</td>\n",
              "      <td>3</td>\n",
              "      <td>7</td>\n",
              "      <td>1</td>\n",
              "      <td>1</td>\n",
              "      <td>0</td>\n",
              "      <td>2</td>\n",
              "    </tr>\n",
              "    <tr>\n",
              "      <th>2</th>\n",
              "      <td>2603</td>\n",
              "      <td>11</td>\n",
              "      <td>2</td>\n",
              "      <td>9</td>\n",
              "      <td>1</td>\n",
              "      <td>1</td>\n",
              "      <td>0</td>\n",
              "      <td>2</td>\n",
              "    </tr>\n",
              "    <tr>\n",
              "      <th>3</th>\n",
              "      <td>2769</td>\n",
              "      <td>16</td>\n",
              "      <td>8</td>\n",
              "      <td>11</td>\n",
              "      <td>1</td>\n",
              "      <td>0</td>\n",
              "      <td>0</td>\n",
              "      <td>2</td>\n",
              "    </tr>\n",
              "    <tr>\n",
              "      <th>4</th>\n",
              "      <td>1411</td>\n",
              "      <td>8</td>\n",
              "      <td>2</td>\n",
              "      <td>15</td>\n",
              "      <td>1</td>\n",
              "      <td>1</td>\n",
              "      <td>0</td>\n",
              "      <td>1</td>\n",
              "    </tr>\n",
              "    <tr>\n",
              "      <th>...</th>\n",
              "      <td>...</td>\n",
              "      <td>...</td>\n",
              "      <td>...</td>\n",
              "      <td>...</td>\n",
              "      <td>...</td>\n",
              "      <td>...</td>\n",
              "      <td>...</td>\n",
              "      <td>...</td>\n",
              "    </tr>\n",
              "    <tr>\n",
              "      <th>1995</th>\n",
              "      <td>668</td>\n",
              "      <td>13</td>\n",
              "      <td>4</td>\n",
              "      <td>19</td>\n",
              "      <td>1</td>\n",
              "      <td>1</td>\n",
              "      <td>0</td>\n",
              "      <td>0</td>\n",
              "    </tr>\n",
              "    <tr>\n",
              "      <th>1996</th>\n",
              "      <td>2032</td>\n",
              "      <td>11</td>\n",
              "      <td>10</td>\n",
              "      <td>16</td>\n",
              "      <td>1</td>\n",
              "      <td>1</td>\n",
              "      <td>1</td>\n",
              "      <td>2</td>\n",
              "    </tr>\n",
              "    <tr>\n",
              "      <th>1997</th>\n",
              "      <td>3057</td>\n",
              "      <td>9</td>\n",
              "      <td>1</td>\n",
              "      <td>5</td>\n",
              "      <td>1</td>\n",
              "      <td>1</td>\n",
              "      <td>0</td>\n",
              "      <td>3</td>\n",
              "    </tr>\n",
              "    <tr>\n",
              "      <th>1998</th>\n",
              "      <td>869</td>\n",
              "      <td>18</td>\n",
              "      <td>10</td>\n",
              "      <td>19</td>\n",
              "      <td>1</td>\n",
              "      <td>1</td>\n",
              "      <td>1</td>\n",
              "      <td>0</td>\n",
              "    </tr>\n",
              "    <tr>\n",
              "      <th>1999</th>\n",
              "      <td>3919</td>\n",
              "      <td>19</td>\n",
              "      <td>4</td>\n",
              "      <td>2</td>\n",
              "      <td>1</td>\n",
              "      <td>1</td>\n",
              "      <td>1</td>\n",
              "      <td>3</td>\n",
              "    </tr>\n",
              "  </tbody>\n",
              "</table>\n",
              "<p>2000 rows × 8 columns</p>\n",
              "</div>\n",
              "      <button class=\"colab-df-convert\" onclick=\"convertToInteractive('df-d8a5187d-d75c-4023-9fed-1143b6703045')\"\n",
              "              title=\"Convert this dataframe to an interactive table.\"\n",
              "              style=\"display:none;\">\n",
              "        \n",
              "  <svg xmlns=\"http://www.w3.org/2000/svg\" height=\"24px\"viewBox=\"0 0 24 24\"\n",
              "       width=\"24px\">\n",
              "    <path d=\"M0 0h24v24H0V0z\" fill=\"none\"/>\n",
              "    <path d=\"M18.56 5.44l.94 2.06.94-2.06 2.06-.94-2.06-.94-.94-2.06-.94 2.06-2.06.94zm-11 1L8.5 8.5l.94-2.06 2.06-.94-2.06-.94L8.5 2.5l-.94 2.06-2.06.94zm10 10l.94 2.06.94-2.06 2.06-.94-2.06-.94-.94-2.06-.94 2.06-2.06.94z\"/><path d=\"M17.41 7.96l-1.37-1.37c-.4-.4-.92-.59-1.43-.59-.52 0-1.04.2-1.43.59L10.3 9.45l-7.72 7.72c-.78.78-.78 2.05 0 2.83L4 21.41c.39.39.9.59 1.41.59.51 0 1.02-.2 1.41-.59l7.78-7.78 2.81-2.81c.8-.78.8-2.07 0-2.86zM5.41 20L4 18.59l7.72-7.72 1.47 1.35L5.41 20z\"/>\n",
              "  </svg>\n",
              "      </button>\n",
              "      \n",
              "  <style>\n",
              "    .colab-df-container {\n",
              "      display:flex;\n",
              "      flex-wrap:wrap;\n",
              "      gap: 12px;\n",
              "    }\n",
              "\n",
              "    .colab-df-convert {\n",
              "      background-color: #E8F0FE;\n",
              "      border: none;\n",
              "      border-radius: 50%;\n",
              "      cursor: pointer;\n",
              "      display: none;\n",
              "      fill: #1967D2;\n",
              "      height: 32px;\n",
              "      padding: 0 0 0 0;\n",
              "      width: 32px;\n",
              "    }\n",
              "\n",
              "    .colab-df-convert:hover {\n",
              "      background-color: #E2EBFA;\n",
              "      box-shadow: 0px 1px 2px rgba(60, 64, 67, 0.3), 0px 1px 3px 1px rgba(60, 64, 67, 0.15);\n",
              "      fill: #174EA6;\n",
              "    }\n",
              "\n",
              "    [theme=dark] .colab-df-convert {\n",
              "      background-color: #3B4455;\n",
              "      fill: #D2E3FC;\n",
              "    }\n",
              "\n",
              "    [theme=dark] .colab-df-convert:hover {\n",
              "      background-color: #434B5C;\n",
              "      box-shadow: 0px 1px 3px 1px rgba(0, 0, 0, 0.15);\n",
              "      filter: drop-shadow(0px 1px 2px rgba(0, 0, 0, 0.3));\n",
              "      fill: #FFFFFF;\n",
              "    }\n",
              "  </style>\n",
              "\n",
              "      <script>\n",
              "        const buttonEl =\n",
              "          document.querySelector('#df-d8a5187d-d75c-4023-9fed-1143b6703045 button.colab-df-convert');\n",
              "        buttonEl.style.display =\n",
              "          google.colab.kernel.accessAllowed ? 'block' : 'none';\n",
              "\n",
              "        async function convertToInteractive(key) {\n",
              "          const element = document.querySelector('#df-d8a5187d-d75c-4023-9fed-1143b6703045');\n",
              "          const dataTable =\n",
              "            await google.colab.kernel.invokeFunction('convertToInteractive',\n",
              "                                                     [key], {});\n",
              "          if (!dataTable) return;\n",
              "\n",
              "          const docLinkHtml = 'Like what you see? Visit the ' +\n",
              "            '<a target=\"_blank\" href=https://colab.research.google.com/notebooks/data_table.ipynb>data table notebook</a>'\n",
              "            + ' to learn more about interactive tables.';\n",
              "          element.innerHTML = '';\n",
              "          dataTable['output_type'] = 'display_data';\n",
              "          await google.colab.output.renderOutput(dataTable, element);\n",
              "          const docLink = document.createElement('div');\n",
              "          docLink.innerHTML = docLinkHtml;\n",
              "          element.appendChild(docLink);\n",
              "        }\n",
              "      </script>\n",
              "    </div>\n",
              "  </div>\n",
              "  "
            ]
          },
          "metadata": {},
          "execution_count": 38
        }
      ]
    },
    {
      "cell_type": "code",
      "source": [
        "df.isnull().sum\n",
        "df.dtypes"
      ],
      "metadata": {
        "colab": {
          "base_uri": "https://localhost:8080/"
        },
        "id": "Jw4ttV9YNjgV",
        "outputId": "b89415c2-5d31-44b6-95a8-f0e624f5a524"
      },
      "execution_count": null,
      "outputs": [
        {
          "output_type": "execute_result",
          "data": {
            "text/plain": [
              "battery_power      int64\n",
              "blue               int64\n",
              "clock_speed      float64\n",
              "dual_sim           int64\n",
              "fc                 int64\n",
              "four_g             int64\n",
              "int_memory         int64\n",
              "m_dep            float64\n",
              "mobile_wt          int64\n",
              "n_cores            int64\n",
              "pc                 int64\n",
              "px_height          int64\n",
              "px_width           int64\n",
              "ram                int64\n",
              "sc_h               int64\n",
              "sc_w               int64\n",
              "talk_time          int64\n",
              "three_g            int64\n",
              "touch_screen       int64\n",
              "wifi               int64\n",
              "price_range        int64\n",
              "dtype: object"
            ]
          },
          "metadata": {},
          "execution_count": 39
        }
      ]
    },
    {
      "cell_type": "code",
      "source": [
        "x.head()"
      ],
      "metadata": {
        "colab": {
          "base_uri": "https://localhost:8080/",
          "height": 206
        },
        "id": "PKSmIB5e3vXC",
        "outputId": "ed6e4337-21c2-440f-c4b9-a734d165d476"
      },
      "execution_count": null,
      "outputs": [
        {
          "output_type": "execute_result",
          "data": {
            "text/plain": [
              "    ram\n",
              "0  2549\n",
              "1  2631\n",
              "2  2603\n",
              "3  2769\n",
              "4  1411"
            ],
            "text/html": [
              "\n",
              "  <div id=\"df-00e94e68-0dac-466b-b6c5-2a23630df1ee\">\n",
              "    <div class=\"colab-df-container\">\n",
              "      <div>\n",
              "<style scoped>\n",
              "    .dataframe tbody tr th:only-of-type {\n",
              "        vertical-align: middle;\n",
              "    }\n",
              "\n",
              "    .dataframe tbody tr th {\n",
              "        vertical-align: top;\n",
              "    }\n",
              "\n",
              "    .dataframe thead th {\n",
              "        text-align: right;\n",
              "    }\n",
              "</style>\n",
              "<table border=\"1\" class=\"dataframe\">\n",
              "  <thead>\n",
              "    <tr style=\"text-align: right;\">\n",
              "      <th></th>\n",
              "      <th>ram</th>\n",
              "    </tr>\n",
              "  </thead>\n",
              "  <tbody>\n",
              "    <tr>\n",
              "      <th>0</th>\n",
              "      <td>2549</td>\n",
              "    </tr>\n",
              "    <tr>\n",
              "      <th>1</th>\n",
              "      <td>2631</td>\n",
              "    </tr>\n",
              "    <tr>\n",
              "      <th>2</th>\n",
              "      <td>2603</td>\n",
              "    </tr>\n",
              "    <tr>\n",
              "      <th>3</th>\n",
              "      <td>2769</td>\n",
              "    </tr>\n",
              "    <tr>\n",
              "      <th>4</th>\n",
              "      <td>1411</td>\n",
              "    </tr>\n",
              "  </tbody>\n",
              "</table>\n",
              "</div>\n",
              "      <button class=\"colab-df-convert\" onclick=\"convertToInteractive('df-00e94e68-0dac-466b-b6c5-2a23630df1ee')\"\n",
              "              title=\"Convert this dataframe to an interactive table.\"\n",
              "              style=\"display:none;\">\n",
              "        \n",
              "  <svg xmlns=\"http://www.w3.org/2000/svg\" height=\"24px\"viewBox=\"0 0 24 24\"\n",
              "       width=\"24px\">\n",
              "    <path d=\"M0 0h24v24H0V0z\" fill=\"none\"/>\n",
              "    <path d=\"M18.56 5.44l.94 2.06.94-2.06 2.06-.94-2.06-.94-.94-2.06-.94 2.06-2.06.94zm-11 1L8.5 8.5l.94-2.06 2.06-.94-2.06-.94L8.5 2.5l-.94 2.06-2.06.94zm10 10l.94 2.06.94-2.06 2.06-.94-2.06-.94-.94-2.06-.94 2.06-2.06.94z\"/><path d=\"M17.41 7.96l-1.37-1.37c-.4-.4-.92-.59-1.43-.59-.52 0-1.04.2-1.43.59L10.3 9.45l-7.72 7.72c-.78.78-.78 2.05 0 2.83L4 21.41c.39.39.9.59 1.41.59.51 0 1.02-.2 1.41-.59l7.78-7.78 2.81-2.81c.8-.78.8-2.07 0-2.86zM5.41 20L4 18.59l7.72-7.72 1.47 1.35L5.41 20z\"/>\n",
              "  </svg>\n",
              "      </button>\n",
              "      \n",
              "  <style>\n",
              "    .colab-df-container {\n",
              "      display:flex;\n",
              "      flex-wrap:wrap;\n",
              "      gap: 12px;\n",
              "    }\n",
              "\n",
              "    .colab-df-convert {\n",
              "      background-color: #E8F0FE;\n",
              "      border: none;\n",
              "      border-radius: 50%;\n",
              "      cursor: pointer;\n",
              "      display: none;\n",
              "      fill: #1967D2;\n",
              "      height: 32px;\n",
              "      padding: 0 0 0 0;\n",
              "      width: 32px;\n",
              "    }\n",
              "\n",
              "    .colab-df-convert:hover {\n",
              "      background-color: #E2EBFA;\n",
              "      box-shadow: 0px 1px 2px rgba(60, 64, 67, 0.3), 0px 1px 3px 1px rgba(60, 64, 67, 0.15);\n",
              "      fill: #174EA6;\n",
              "    }\n",
              "\n",
              "    [theme=dark] .colab-df-convert {\n",
              "      background-color: #3B4455;\n",
              "      fill: #D2E3FC;\n",
              "    }\n",
              "\n",
              "    [theme=dark] .colab-df-convert:hover {\n",
              "      background-color: #434B5C;\n",
              "      box-shadow: 0px 1px 3px 1px rgba(0, 0, 0, 0.15);\n",
              "      filter: drop-shadow(0px 1px 2px rgba(0, 0, 0, 0.3));\n",
              "      fill: #FFFFFF;\n",
              "    }\n",
              "  </style>\n",
              "\n",
              "      <script>\n",
              "        const buttonEl =\n",
              "          document.querySelector('#df-00e94e68-0dac-466b-b6c5-2a23630df1ee button.colab-df-convert');\n",
              "        buttonEl.style.display =\n",
              "          google.colab.kernel.accessAllowed ? 'block' : 'none';\n",
              "\n",
              "        async function convertToInteractive(key) {\n",
              "          const element = document.querySelector('#df-00e94e68-0dac-466b-b6c5-2a23630df1ee');\n",
              "          const dataTable =\n",
              "            await google.colab.kernel.invokeFunction('convertToInteractive',\n",
              "                                                     [key], {});\n",
              "          if (!dataTable) return;\n",
              "\n",
              "          const docLinkHtml = 'Like what you see? Visit the ' +\n",
              "            '<a target=\"_blank\" href=https://colab.research.google.com/notebooks/data_table.ipynb>data table notebook</a>'\n",
              "            + ' to learn more about interactive tables.';\n",
              "          element.innerHTML = '';\n",
              "          dataTable['output_type'] = 'display_data';\n",
              "          await google.colab.output.renderOutput(dataTable, element);\n",
              "          const docLink = document.createElement('div');\n",
              "          docLink.innerHTML = docLinkHtml;\n",
              "          element.appendChild(docLink);\n",
              "        }\n",
              "      </script>\n",
              "    </div>\n",
              "  </div>\n",
              "  "
            ]
          },
          "metadata": {},
          "execution_count": 40
        }
      ]
    },
    {
      "cell_type": "code",
      "source": [
        "y.head()"
      ],
      "metadata": {
        "colab": {
          "base_uri": "https://localhost:8080/"
        },
        "id": "jvAUJiA632l-",
        "outputId": "8a7a3ce8-f405-4049-a067-2e6f2e771291"
      },
      "execution_count": null,
      "outputs": [
        {
          "output_type": "execute_result",
          "data": {
            "text/plain": [
              "0    1\n",
              "1    2\n",
              "2    2\n",
              "3    2\n",
              "4    1\n",
              "Name: price_range, dtype: int64"
            ]
          },
          "metadata": {},
          "execution_count": 41
        }
      ]
    },
    {
      "cell_type": "code",
      "source": [
        "x = x.values"
      ],
      "metadata": {
        "id": "4CVTIsMaP3ZZ"
      },
      "execution_count": null,
      "outputs": []
    },
    {
      "cell_type": "code",
      "source": [
        "x"
      ],
      "metadata": {
        "colab": {
          "base_uri": "https://localhost:8080/"
        },
        "id": "ZEhA_ThDP2X6",
        "outputId": "3fdfaeb5-8aef-4ea7-aeec-f32cd8888fc9"
      },
      "execution_count": null,
      "outputs": [
        {
          "output_type": "execute_result",
          "data": {
            "text/plain": [
              "array([[2549],\n",
              "       [2631],\n",
              "       [2603],\n",
              "       ...,\n",
              "       [3057],\n",
              "       [ 869],\n",
              "       [3919]])"
            ]
          },
          "metadata": {},
          "execution_count": 43
        }
      ]
    },
    {
      "cell_type": "code",
      "source": [
        "y = df.iloc[:,-1].values"
      ],
      "metadata": {
        "id": "5tHkUhFbms38"
      },
      "execution_count": null,
      "outputs": []
    },
    {
      "cell_type": "code",
      "source": [
        "y"
      ],
      "metadata": {
        "colab": {
          "base_uri": "https://localhost:8080/"
        },
        "id": "uGUBZeXTmsit",
        "outputId": "d1198261-83ed-4b53-8068-6efd7dc2b45b"
      },
      "execution_count": null,
      "outputs": [
        {
          "output_type": "execute_result",
          "data": {
            "text/plain": [
              "array([1, 2, 2, ..., 3, 0, 3])"
            ]
          },
          "metadata": {},
          "execution_count": 45
        }
      ]
    },
    {
      "cell_type": "code",
      "source": [
        "from sklearn.model_selection import train_test_split"
      ],
      "metadata": {
        "id": "axLtJRkc3392"
      },
      "execution_count": null,
      "outputs": []
    },
    {
      "cell_type": "code",
      "source": [
        "x_train,x_test,y_train,y_test = train_test_split(x,y,test_size=0.25)\n",
        "print(x_train.shape)\n",
        "print(x_test.shape)\n",
        "print(y_train.shape)\n",
        "print(y_test.shape)"
      ],
      "metadata": {
        "colab": {
          "base_uri": "https://localhost:8080/"
        },
        "id": "DbyjenLa4FKv",
        "outputId": "bb4f3b31-e99f-4d0b-e5fc-a256bda5887e"
      },
      "execution_count": null,
      "outputs": [
        {
          "output_type": "stream",
          "name": "stdout",
          "text": [
            "(1500, 1)\n",
            "(500, 1)\n",
            "(1500,)\n",
            "(500,)\n"
          ]
        }
      ]
    },
    {
      "cell_type": "code",
      "source": [
        "from sklearn.neighbors import KNeighborsClassifier"
      ],
      "metadata": {
        "id": "7941n2HMnZE1"
      },
      "execution_count": null,
      "outputs": []
    },
    {
      "cell_type": "code",
      "source": [
        "KNN = KNeighborsClassifier()"
      ],
      "metadata": {
        "id": "eJtKPDHYnXtJ"
      },
      "execution_count": null,
      "outputs": []
    },
    {
      "cell_type": "code",
      "source": [
        "KNN.fit(x_train,y_train)"
      ],
      "metadata": {
        "colab": {
          "base_uri": "https://localhost:8080/"
        },
        "id": "K8QtQF2GnvGY",
        "outputId": "7ca865d8-f88f-4366-cb5f-5fbee0c884e2"
      },
      "execution_count": null,
      "outputs": [
        {
          "output_type": "execute_result",
          "data": {
            "text/plain": [
              "KNeighborsClassifier()"
            ]
          },
          "metadata": {},
          "execution_count": 50
        }
      ]
    },
    {
      "cell_type": "code",
      "source": [
        "y_pred = KNN.predict(x_test)"
      ],
      "metadata": {
        "id": "CL5bFLyynzx1"
      },
      "execution_count": null,
      "outputs": []
    },
    {
      "cell_type": "code",
      "source": [
        "y_pred"
      ],
      "metadata": {
        "colab": {
          "base_uri": "https://localhost:8080/"
        },
        "id": "Q2sRiClbn0fW",
        "outputId": "830fe793-7a61-44e8-9deb-61fbbae2f0f5"
      },
      "execution_count": null,
      "outputs": [
        {
          "output_type": "execute_result",
          "data": {
            "text/plain": [
              "array([0, 3, 3, 0, 2, 3, 3, 0, 1, 3, 0, 2, 3, 0, 1, 1, 3, 3, 0, 0, 0, 3,\n",
              "       2, 3, 1, 0, 3, 2, 1, 2, 3, 2, 0, 1, 2, 2, 0, 0, 0, 2, 2, 1, 2, 3,\n",
              "       1, 3, 3, 2, 3, 2, 3, 0, 0, 1, 2, 1, 3, 1, 0, 0, 0, 1, 0, 0, 0, 3,\n",
              "       2, 2, 0, 1, 3, 0, 0, 2, 3, 1, 1, 3, 2, 2, 3, 3, 0, 2, 3, 3, 3, 2,\n",
              "       0, 1, 0, 3, 3, 3, 1, 2, 1, 0, 3, 3, 2, 3, 2, 0, 1, 1, 2, 2, 0, 3,\n",
              "       3, 2, 1, 2, 0, 1, 3, 1, 3, 0, 0, 3, 1, 3, 0, 3, 2, 0, 1, 2, 0, 0,\n",
              "       0, 3, 0, 0, 1, 1, 2, 1, 3, 0, 1, 1, 3, 0, 2, 0, 1, 2, 3, 3, 0, 0,\n",
              "       0, 1, 0, 3, 0, 3, 3, 1, 1, 1, 0, 2, 3, 0, 1, 2, 2, 1, 2, 1, 3, 2,\n",
              "       1, 0, 1, 0, 0, 3, 0, 0, 3, 0, 2, 3, 3, 1, 3, 1, 0, 2, 3, 3, 0, 2,\n",
              "       3, 3, 2, 3, 1, 1, 0, 1, 1, 0, 1, 0, 0, 2, 3, 0, 1, 2, 2, 0, 2, 1,\n",
              "       3, 1, 2, 0, 2, 2, 0, 2, 0, 1, 3, 2, 0, 2, 2, 3, 2, 2, 0, 3, 0, 1,\n",
              "       3, 3, 3, 1, 2, 3, 2, 2, 3, 2, 0, 3, 3, 2, 0, 2, 3, 2, 1, 1, 3, 2,\n",
              "       0, 3, 0, 2, 0, 1, 0, 3, 0, 1, 3, 1, 1, 0, 0, 1, 3, 0, 0, 3, 0, 3,\n",
              "       1, 2, 0, 3, 1, 2, 1, 3, 1, 0, 2, 1, 1, 0, 0, 2, 2, 3, 0, 1, 1, 3,\n",
              "       3, 3, 0, 3, 0, 2, 3, 0, 1, 2, 3, 0, 0, 0, 1, 0, 2, 1, 1, 0, 1, 3,\n",
              "       0, 1, 1, 1, 1, 1, 1, 0, 0, 0, 1, 0, 0, 2, 2, 0, 2, 2, 2, 1, 1, 2,\n",
              "       2, 1, 3, 2, 0, 0, 1, 2, 3, 3, 1, 2, 2, 0, 3, 1, 1, 2, 3, 3, 0, 2,\n",
              "       3, 1, 3, 2, 0, 3, 0, 3, 0, 3, 3, 3, 1, 1, 1, 3, 0, 2, 2, 2, 2, 3,\n",
              "       1, 1, 1, 0, 0, 2, 1, 1, 1, 0, 1, 2, 0, 1, 2, 2, 0, 3, 2, 3, 3, 1,\n",
              "       0, 3, 0, 3, 0, 3, 0, 1, 2, 0, 3, 0, 1, 0, 0, 3, 0, 1, 1, 3, 3, 2,\n",
              "       0, 3, 1, 3, 2, 0, 3, 1, 1, 3, 0, 1, 0, 1, 1, 0, 2, 2, 3, 0, 0, 2,\n",
              "       3, 3, 3, 3, 2, 1, 0, 3, 1, 0, 3, 0, 3, 3, 1, 0, 0, 3, 0, 2, 2, 0,\n",
              "       1, 1, 3, 0, 0, 1, 3, 3, 0, 3, 0, 2, 3, 3, 3, 0])"
            ]
          },
          "metadata": {},
          "execution_count": 52
        }
      ]
    },
    {
      "cell_type": "code",
      "source": [
        "from sklearn.metrics import classification_report, confusion_matrix"
      ],
      "metadata": {
        "id": "FE1ec0C7oDow"
      },
      "execution_count": null,
      "outputs": []
    },
    {
      "cell_type": "code",
      "source": [
        "print(classification_report(y_test.reshape(-1,1), y_pred))"
      ],
      "metadata": {
        "colab": {
          "base_uri": "https://localhost:8080/"
        },
        "id": "i6JblaoooIHN",
        "outputId": "49d5aa65-4094-4c5f-eb2c-3cfa95db0d37"
      },
      "execution_count": null,
      "outputs": [
        {
          "output_type": "stream",
          "name": "stdout",
          "text": [
            "              precision    recall  f1-score   support\n",
            "\n",
            "           0       0.75      0.84      0.79       128\n",
            "           1       0.59      0.54      0.56       125\n",
            "           2       0.58      0.54      0.56       112\n",
            "           3       0.84      0.84      0.84       135\n",
            "\n",
            "    accuracy                           0.70       500\n",
            "   macro avg       0.69      0.69      0.69       500\n",
            "weighted avg       0.69      0.70      0.70       500\n",
            "\n"
          ]
        }
      ]
    },
    {
      "cell_type": "code",
      "source": [
        "from sklearn.model_selection import cross_val_score"
      ],
      "metadata": {
        "id": "uJyuxJn-oH42"
      },
      "execution_count": null,
      "outputs": []
    },
    {
      "cell_type": "code",
      "source": [
        "print('Cross val',cross_val_score(KNN,y_test.reshape(-1,1),y_pred , cv = 10))\n",
        "print('Cross val',np.mean(cross_val_score(KNN,y_test.reshape(-1,1),y_pred)))"
      ],
      "metadata": {
        "colab": {
          "base_uri": "https://localhost:8080/"
        },
        "id": "IdFJBzGSpBn-",
        "outputId": "f9cbb6ab-5ba5-4e19-bf36-8ef2e03c1192"
      },
      "execution_count": null,
      "outputs": [
        {
          "output_type": "stream",
          "name": "stdout",
          "text": [
            "Cross val [0.76 0.6  0.64 0.78 0.74 0.6  0.6  0.64 0.68 0.6 ]\n",
            "Cross val 0.6359999999999999\n"
          ]
        }
      ]
    },
    {
      "cell_type": "code",
      "source": [
        "y_test"
      ],
      "metadata": {
        "colab": {
          "base_uri": "https://localhost:8080/"
        },
        "id": "JGfcQpyr3PP2",
        "outputId": "688c7e8c-cbca-4eff-9025-9dff56b07b7c"
      },
      "execution_count": null,
      "outputs": [
        {
          "output_type": "execute_result",
          "data": {
            "text/plain": [
              "array([0, 3, 3, 0, 2, 3, 2, 0, 2, 3, 0, 3, 3, 0, 1, 2, 2, 3, 0, 1, 0, 3,\n",
              "       2, 2, 1, 0, 3, 2, 1, 3, 3, 2, 0, 2, 2, 2, 0, 0, 0, 3, 2, 1, 2, 3,\n",
              "       1, 3, 3, 3, 3, 2, 2, 0, 1, 2, 1, 1, 3, 1, 1, 0, 0, 2, 0, 0, 0, 3,\n",
              "       2, 1, 1, 1, 3, 1, 0, 2, 2, 1, 1, 3, 2, 1, 3, 3, 0, 2, 3, 3, 2, 3,\n",
              "       1, 0, 0, 3, 2, 3, 1, 3, 0, 0, 3, 3, 2, 3, 2, 0, 1, 0, 3, 2, 0, 3,\n",
              "       3, 1, 1, 2, 1, 1, 3, 2, 2, 0, 0, 3, 0, 2, 2, 3, 2, 0, 1, 2, 0, 1,\n",
              "       1, 3, 0, 0, 0, 1, 1, 0, 3, 0, 1, 2, 3, 0, 3, 0, 1, 2, 3, 3, 0, 0,\n",
              "       0, 1, 0, 3, 0, 3, 3, 2, 1, 2, 0, 2, 2, 0, 1, 1, 1, 0, 3, 1, 3, 2,\n",
              "       1, 0, 0, 0, 1, 3, 1, 0, 3, 0, 2, 3, 3, 1, 2, 1, 0, 2, 3, 3, 0, 2,\n",
              "       3, 3, 1, 3, 1, 1, 0, 2, 2, 0, 2, 1, 0, 1, 3, 0, 1, 2, 2, 0, 1, 1,\n",
              "       3, 1, 2, 0, 2, 3, 0, 2, 0, 1, 3, 2, 0, 2, 2, 3, 1, 2, 0, 3, 1, 2,\n",
              "       3, 3, 3, 1, 2, 3, 1, 2, 3, 2, 0, 3, 3, 2, 1, 3, 2, 2, 0, 2, 3, 2,\n",
              "       0, 3, 0, 2, 0, 1, 1, 3, 0, 1, 2, 0, 1, 0, 2, 1, 3, 0, 0, 3, 0, 3,\n",
              "       1, 3, 1, 3, 1, 2, 1, 2, 2, 0, 2, 2, 1, 1, 1, 2, 2, 3, 1, 1, 2, 3,\n",
              "       3, 3, 0, 3, 0, 2, 3, 0, 1, 3, 3, 0, 1, 1, 0, 0, 1, 1, 1, 0, 0, 3,\n",
              "       1, 1, 0, 1, 2, 0, 1, 1, 0, 0, 1, 0, 1, 2, 2, 0, 2, 3, 3, 0, 0, 2,\n",
              "       1, 0, 3, 2, 0, 0, 1, 2, 3, 3, 2, 1, 1, 0, 3, 2, 0, 2, 3, 3, 0, 3,\n",
              "       3, 1, 3, 3, 0, 3, 1, 3, 0, 2, 3, 3, 1, 1, 0, 3, 0, 2, 1, 2, 2, 3,\n",
              "       1, 0, 1, 1, 0, 1, 0, 2, 1, 0, 1, 3, 0, 1, 3, 3, 0, 3, 1, 3, 3, 2,\n",
              "       0, 3, 0, 3, 0, 3, 0, 2, 2, 1, 2, 0, 1, 0, 0, 3, 0, 1, 2, 3, 3, 2,\n",
              "       0, 3, 1, 3, 1, 1, 2, 1, 2, 3, 0, 1, 0, 1, 1, 0, 3, 1, 3, 1, 0, 2,\n",
              "       3, 3, 3, 3, 2, 2, 0, 3, 1, 0, 3, 1, 3, 3, 1, 1, 0, 2, 0, 1, 1, 0,\n",
              "       2, 1, 2, 1, 0, 1, 2, 2, 1, 3, 1, 2, 3, 3, 2, 0])"
            ]
          },
          "metadata": {},
          "execution_count": 57
        }
      ]
    },
    {
      "cell_type": "code",
      "source": [
        "from sklearn.metrics import accuracy_score"
      ],
      "metadata": {
        "id": "hKAPZqqH4EEY"
      },
      "execution_count": null,
      "outputs": []
    },
    {
      "cell_type": "code",
      "source": [
        "knn_ac = accuracy_score(y_test,y_pred)"
      ],
      "metadata": {
        "id": "WeIlQdiG3DyN"
      },
      "execution_count": null,
      "outputs": []
    },
    {
      "cell_type": "code",
      "source": [
        "knn_ac"
      ],
      "metadata": {
        "colab": {
          "base_uri": "https://localhost:8080/"
        },
        "id": "5eScPmTk4Ly_",
        "outputId": "89421e55-646c-4d1e-86e9-63ffdd37b8c5"
      },
      "execution_count": null,
      "outputs": [
        {
          "output_type": "execute_result",
          "data": {
            "text/plain": [
              "0.7"
            ]
          },
          "metadata": {},
          "execution_count": 61
        }
      ]
    },
    {
      "cell_type": "markdown",
      "source": [
        "# Applying SVM\n"
      ],
      "metadata": {
        "id": "3ArPziGpLj9b"
      }
    },
    {
      "cell_type": "code",
      "source": [
        "from sklearn.svm import SVC"
      ],
      "metadata": {
        "id": "RzsJvlt3L1hh"
      },
      "execution_count": null,
      "outputs": []
    },
    {
      "cell_type": "code",
      "source": [
        "m1 = SVC(kernel='linear',C=0.1)\n",
        "m1.fit(x_tr,y_tr)"
      ],
      "metadata": {
        "colab": {
          "base_uri": "https://localhost:8080/"
        },
        "id": "dIdG5TCaL2Jo",
        "outputId": "cbe67761-2d72-405c-9c76-25b09cad7eb8"
      },
      "execution_count": null,
      "outputs": [
        {
          "output_type": "execute_result",
          "data": {
            "text/plain": [
              "SVC(C=0.1, kernel='linear')"
            ]
          },
          "metadata": {},
          "execution_count": 86
        }
      ]
    },
    {
      "cell_type": "code",
      "source": [
        "print('Training Score',m1.score(x_tr,y_tr))\n",
        "print('Testing Score',m1.score(x_te,y_te))"
      ],
      "metadata": {
        "colab": {
          "base_uri": "https://localhost:8080/"
        },
        "id": "QrkOAO-PL5vm",
        "outputId": "0dd85407-43bd-43df-e6f3-9ec58bc34b64"
      },
      "execution_count": null,
      "outputs": [
        {
          "output_type": "stream",
          "name": "stdout",
          "text": [
            "Training Score 0.7546666666666667\n",
            "Testing Score 0.754\n"
          ]
        }
      ]
    },
    {
      "cell_type": "code",
      "source": [
        "ypred_m1 = m1.predict(x_te)\n",
        "print(ypred_m1)"
      ],
      "metadata": {
        "colab": {
          "base_uri": "https://localhost:8080/"
        },
        "id": "pqjOQ5NUL88R",
        "outputId": "3e7d1c14-4e71-4746-bfd0-1d75e9850ea4"
      },
      "execution_count": null,
      "outputs": [
        {
          "output_type": "stream",
          "name": "stdout",
          "text": [
            "[0 0 2 3 2 3 1 3 0 2 0 0 0 0 1 2 2 1 1 1 2 3 1 2 2 3 0 3 0 0 3 3 3 3 3 3 0\n",
            " 1 3 1 3 1 1 3 2 1 1 3 2 3 1 1 3 3 0 1 1 0 2 3 2 0 1 0 2 3 2 0 3 2 0 2 0 1\n",
            " 3 2 0 0 0 1 3 0 3 2 2 1 1 0 3 0 3 3 0 3 1 3 3 1 1 0 2 0 3 1 2 2 3 2 0 0 0\n",
            " 0 1 1 2 1 0 2 2 0 0 1 0 1 1 2 3 3 2 3 1 2 2 1 2 1 2 0 1 1 0 1 0 0 0 2 1 2\n",
            " 0 1 1 3 0 3 2 1 1 1 3 2 0 3 1 3 3 2 3 0 1 0 2 3 1 3 3 1 1 3 1 0 3 2 0 1 0\n",
            " 2 0 2 2 0 1 3 0 0 1 2 0 1 3 2 2 1 3 1 3 3 3 0 1 0 0 3 1 2 3 0 1 1 1 2 1 1\n",
            " 2 3 1 0 3 2 1 1 2 3 0 2 2 1 3 0 1 3 2 0 1 0 1 2 0 2 1 1 3 3 0 1 2 2 2 2 2\n",
            " 3 3 1 3 0 0 1 1 2 1 2 1 3 3 1 2 2 1 1 1 2 2 0 2 0 3 2 1 2 0 3 2 3 1 2 3 1\n",
            " 0 0 2 2 0 3 1 3 1 2 2 1 1 1 1 1 0 2 2 1 0 0 2 3 2 3 2 0 0 3 0 2 3 3 3 3 1\n",
            " 2 2 1 1 1 2 3 2 0 1 3 2 3 2 1 3 3 2 1 0 1 0 3 3 0 0 2 3 2 2 0 3 0 1 2 3 3\n",
            " 3 1 3 1 3 3 2 2 0 0 0 0 2 1 2 3 3 0 1 1 2 0 0 1 2 0 3 1 2 2 0 0 1 3 3 2 2\n",
            " 3 2 2 0 2 0 3 2 1 1 0 2 1 3 3 0 0 0 3 2 3 0 1 0 0 1 3 3 1 2 3 0 0 2 3 2 1\n",
            " 1 3 2 3 0 1 3 3 2 3 3 0 3 3 2 3 1 2 3 0 1 3 2 3 2 1 2 1 1 0 3 1 3 0 0 2 1\n",
            " 0 0 1 1 0 0 1 1 1 0 0 1 1 1 0 1 0 1 0]\n"
          ]
        }
      ]
    },
    {
      "cell_type": "code",
      "source": [
        "from sklearn.metrics import confusion_matrix,classification_report"
      ],
      "metadata": {
        "id": "ENNLNEQ1MAEY"
      },
      "execution_count": null,
      "outputs": []
    },
    {
      "cell_type": "code",
      "source": [
        "cm_m1 = confusion_matrix(y_te,ypred_m1)\n",
        "print(cm_m1)\n",
        "print(classification_report(y_te,ypred_m1))"
      ],
      "metadata": {
        "colab": {
          "base_uri": "https://localhost:8080/"
        },
        "id": "PQ3rPv50MEfc",
        "outputId": "7c9162e8-7ab3-4a91-9926-875865674783"
      },
      "execution_count": null,
      "outputs": [
        {
          "output_type": "stream",
          "name": "stdout",
          "text": [
            "[[103  17   0   0]\n",
            " [ 18  93  23   0]\n",
            " [  0  25  81  25]\n",
            " [  0   0  15 100]]\n",
            "              precision    recall  f1-score   support\n",
            "\n",
            "           0       0.85      0.86      0.85       120\n",
            "           1       0.69      0.69      0.69       134\n",
            "           2       0.68      0.62      0.65       131\n",
            "           3       0.80      0.87      0.83       115\n",
            "\n",
            "    accuracy                           0.75       500\n",
            "   macro avg       0.76      0.76      0.76       500\n",
            "weighted avg       0.75      0.75      0.75       500\n",
            "\n"
          ]
        }
      ]
    },
    {
      "cell_type": "code",
      "source": [
        "m2 = SVC(kernel='rbf',gamma=1,C=1)\n",
        "m2.fit(x_tr,y_tr)"
      ],
      "metadata": {
        "colab": {
          "base_uri": "https://localhost:8080/"
        },
        "id": "Uu07MpNyMGDU",
        "outputId": "157699bc-01bc-4202-b8d7-bc60d1bbe2bb"
      },
      "execution_count": null,
      "outputs": [
        {
          "output_type": "execute_result",
          "data": {
            "text/plain": [
              "SVC(C=1, gamma=1)"
            ]
          },
          "metadata": {},
          "execution_count": 91
        }
      ]
    },
    {
      "cell_type": "code",
      "source": [
        "print('Training Score',m2.score(x_tr,y_tr))\n",
        "print('Testing Score',m2.score(x_te,y_te))\n",
        "ypred_m2 = m2.predict(x_te)\n",
        "print(ypred_m2)"
      ],
      "metadata": {
        "colab": {
          "base_uri": "https://localhost:8080/"
        },
        "id": "05giKr2VMJ2d",
        "outputId": "6bc24468-6039-43bc-a208-08fd2ed1cfcd"
      },
      "execution_count": null,
      "outputs": [
        {
          "output_type": "stream",
          "name": "stdout",
          "text": [
            "Training Score 0.9446666666666667\n",
            "Testing Score 0.578\n",
            "[1 1 3 1 1 3 1 3 0 2 0 1 0 0 0 2 1 1 2 1 1 1 2 2 1 3 1 3 0 0 3 3 3 3 3 3 0\n",
            " 0 1 2 1 1 1 1 1 1 1 1 1 3 1 0 1 3 0 1 1 0 2 1 1 0 1 0 3 2 3 1 3 2 1 2 1 1\n",
            " 3 2 0 0 1 1 3 0 3 1 2 2 1 0 3 1 2 3 0 2 1 1 3 1 1 1 2 0 1 1 1 2 3 2 0 0 0\n",
            " 0 1 0 2 1 1 2 2 0 1 1 1 1 1 2 3 3 1 3 1 1 2 0 2 1 1 1 1 1 0 1 0 0 0 2 1 1\n",
            " 1 1 1 1 0 3 3 2 1 1 3 2 0 3 1 3 3 1 1 1 1 0 3 1 1 3 3 1 1 1 2 0 3 2 0 1 0\n",
            " 3 0 1 3 0 1 2 1 0 1 1 1 1 1 2 1 2 3 1 1 3 1 0 0 0 0 1 0 1 3 0 1 2 1 1 1 1\n",
            " 1 1 2 1 1 2 1 1 1 3 0 2 2 1 3 0 1 3 3 0 1 0 1 2 0 2 1 1 1 1 1 1 2 1 2 2 2\n",
            " 3 3 1 1 0 0 1 1 2 1 1 1 3 1 1 2 2 1 1 1 2 2 0 2 0 1 1 1 2 1 3 2 3 1 2 2 1\n",
            " 1 0 2 2 0 2 1 3 0 2 1 0 1 2 1 1 1 2 3 1 0 0 2 3 2 3 1 0 1 2 1 2 1 3 3 3 2\n",
            " 2 2 1 2 1 1 3 1 1 2 3 2 2 2 1 3 3 1 2 0 1 0 3 1 0 0 1 3 2 2 0 2 1 2 1 1 1\n",
            " 3 1 3 1 3 3 2 2 1 0 1 1 1 1 1 3 3 0 1 1 1 0 1 1 2 0 3 1 1 2 1 0 1 2 1 1 2\n",
            " 1 1 1 0 2 0 1 2 2 1 1 2 0 1 3 0 0 0 3 1 2 0 1 0 0 1 3 3 1 2 3 0 0 3 1 2 2\n",
            " 1 1 2 3 0 1 3 1 2 3 3 0 1 3 3 3 2 2 2 1 1 3 1 3 2 1 1 1 1 0 3 1 3 0 0 1 1\n",
            " 0 0 1 1 0 0 1 0 1 1 0 1 1 1 0 1 0 2 1]\n"
          ]
        }
      ]
    },
    {
      "cell_type": "code",
      "source": [
        "cm_m2 = confusion_matrix(y_te,ypred_m2)\n",
        "print(cm_m2)\n",
        "print(classification_report(y_te,ypred_m2))"
      ],
      "metadata": {
        "colab": {
          "base_uri": "https://localhost:8080/"
        },
        "id": "1XgRWx1FMMtN",
        "outputId": "c527f796-f7ec-44cc-9e37-32baee9f17b2"
      },
      "execution_count": null,
      "outputs": [
        {
          "output_type": "stream",
          "name": "stdout",
          "text": [
            "[[74 46  0  0]\n",
            " [21 90 21  2]\n",
            " [ 1 54 58 18]\n",
            " [ 0 30 18 67]]\n",
            "              precision    recall  f1-score   support\n",
            "\n",
            "           0       0.77      0.62      0.69       120\n",
            "           1       0.41      0.67      0.51       134\n",
            "           2       0.60      0.44      0.51       131\n",
            "           3       0.77      0.58      0.66       115\n",
            "\n",
            "    accuracy                           0.58       500\n",
            "   macro avg       0.64      0.58      0.59       500\n",
            "weighted avg       0.63      0.58      0.59       500\n",
            "\n"
          ]
        }
      ]
    },
    {
      "cell_type": "code",
      "source": [
        "m3 = SVC(kernel='poly',C=10,degree=4)\n",
        "m3.fit(x_tr,y_tr)"
      ],
      "metadata": {
        "colab": {
          "base_uri": "https://localhost:8080/"
        },
        "id": "3ZpQUqSKMezs",
        "outputId": "6372c613-8073-479a-f4b7-844a14fdd9e0"
      },
      "execution_count": null,
      "outputs": [
        {
          "output_type": "execute_result",
          "data": {
            "text/plain": [
              "SVC(C=10, degree=4, kernel='poly')"
            ]
          },
          "metadata": {},
          "execution_count": 94
        }
      ]
    },
    {
      "cell_type": "code",
      "source": [
        "print('Training Score',m3.score(x_tr,y_tr))\n",
        "print('Testing Score',m3.score(x_te,y_te))\n",
        "ypred_m3 = m3.predict(x_te)\n",
        "print(ypred_m3)"
      ],
      "metadata": {
        "colab": {
          "base_uri": "https://localhost:8080/"
        },
        "id": "SoqUjbVxMjSa",
        "outputId": "215c11a6-97f9-4390-fde8-5b74a4bbbfdc"
      },
      "execution_count": null,
      "outputs": [
        {
          "output_type": "stream",
          "name": "stdout",
          "text": [
            "Training Score 0.758\n",
            "Testing Score 0.738\n",
            "[0 0 2 3 2 3 1 3 0 2 0 0 0 0 1 2 1 1 1 1 2 3 1 2 2 3 0 3 0 0 3 3 3 3 3 3 0\n",
            " 0 3 1 3 1 1 3 2 1 1 3 2 3 0 1 3 3 0 0 1 0 2 3 2 0 1 0 2 3 2 0 3 2 0 2 0 1\n",
            " 3 2 0 0 0 1 3 0 3 2 2 1 1 0 2 0 3 3 0 3 1 3 3 1 1 0 2 0 3 1 2 1 3 2 0 0 0\n",
            " 0 0 1 2 1 0 2 2 0 0 1 0 1 0 2 3 3 2 3 1 2 2 1 2 1 2 0 1 1 0 1 0 0 0 2 1 2\n",
            " 0 1 1 2 0 3 2 1 1 1 3 2 0 3 1 3 3 1 3 0 1 0 2 3 0 3 3 1 1 3 1 0 3 2 0 1 0\n",
            " 2 0 2 2 0 1 3 0 0 1 2 0 1 3 2 2 1 3 0 3 3 2 0 1 0 0 3 0 2 3 0 1 1 0 1 0 1\n",
            " 2 3 1 0 3 2 0 1 1 3 0 2 2 1 3 0 0 3 2 0 1 0 1 2 0 2 1 1 2 3 0 1 2 2 2 2 2\n",
            " 3 3 0 3 0 0 1 1 2 1 2 1 3 2 0 2 2 0 1 1 2 2 0 2 0 3 1 1 2 0 3 2 3 1 2 3 0\n",
            " 0 0 2 2 0 2 1 3 0 2 1 0 1 1 1 0 0 2 2 1 0 0 2 3 2 3 2 0 0 3 0 2 2 3 3 3 1\n",
            " 2 2 1 1 1 1 3 2 0 1 3 2 3 2 1 3 3 2 1 0 1 0 3 3 0 0 2 3 2 2 0 3 0 1 2 3 2\n",
            " 3 1 3 1 3 3 2 2 0 0 0 0 2 0 2 3 3 0 1 1 2 0 0 1 2 0 3 1 2 2 0 0 1 3 3 2 2\n",
            " 3 1 2 0 2 0 3 2 1 1 0 2 1 3 3 0 0 0 3 2 3 0 1 0 0 1 3 3 1 2 3 0 0 2 3 2 1\n",
            " 1 3 2 3 0 1 3 3 2 3 3 0 3 3 2 3 1 2 2 0 1 3 2 3 2 1 2 1 1 0 3 1 3 0 0 2 0\n",
            " 0 0 0 1 0 0 0 0 1 0 0 1 1 1 0 1 0 1 0]\n"
          ]
        }
      ]
    },
    {
      "cell_type": "code",
      "source": [
        "cm_m3 = confusion_matrix(y_te,ypred_m3)\n",
        "print(cm_m3)\n",
        "print(classification_report(y_te,ypred_m3))"
      ],
      "metadata": {
        "colab": {
          "base_uri": "https://localhost:8080/"
        },
        "id": "Fi3bYANmMlRD",
        "outputId": "6397a186-b6d8-471a-8c47-fc5847d089aa"
      },
      "execution_count": null,
      "outputs": [
        {
          "output_type": "stream",
          "name": "stdout",
          "text": [
            "[[110  10   0   0]\n",
            " [ 33  83  18   0]\n",
            " [  2  27  81  21]\n",
            " [  0   0  20  95]]\n",
            "              precision    recall  f1-score   support\n",
            "\n",
            "           0       0.76      0.92      0.83       120\n",
            "           1       0.69      0.62      0.65       134\n",
            "           2       0.68      0.62      0.65       131\n",
            "           3       0.82      0.83      0.82       115\n",
            "\n",
            "    accuracy                           0.74       500\n",
            "   macro avg       0.74      0.75      0.74       500\n",
            "weighted avg       0.73      0.74      0.73       500\n",
            "\n"
          ]
        }
      ]
    },
    {
      "cell_type": "code",
      "source": [
        "svm_ac = accuracy_score(y_test,y_pred)"
      ],
      "metadata": {
        "id": "n1zJ5maVMrLO"
      },
      "execution_count": null,
      "outputs": []
    },
    {
      "cell_type": "code",
      "source": [
        "svm_ac"
      ],
      "metadata": {
        "colab": {
          "base_uri": "https://localhost:8080/"
        },
        "id": "2IpSi_Od2Uyx",
        "outputId": "6bf8f1fa-b8a0-4b80-91d4-03196475e05a"
      },
      "execution_count": null,
      "outputs": [
        {
          "output_type": "execute_result",
          "data": {
            "text/plain": [
              "0.7"
            ]
          },
          "metadata": {},
          "execution_count": 65
        }
      ]
    },
    {
      "cell_type": "code",
      "source": [
        "plt.bar(x=['lr','knn','svm'],height=[lr_ac,knn_ac,svm_ac])\n",
        "plt.xlabel(\"Algorithms\")\n",
        "plt.ylabel(\"Accuracy Score\")\n",
        "plt.show()"
      ],
      "metadata": {
        "colab": {
          "base_uri": "https://localhost:8080/"
        },
        "id": "P21kKr-Y5AEH",
        "outputId": "df105d23-d4bc-42ab-9ffc-23666b0c040c"
      },
      "execution_count": null,
      "outputs": [
        {
          "output_type": "display_data",
          "data": {
            "text/plain": [
              "<Figure size 432x288 with 1 Axes>"
            ],
            "image/png": "[encoded data removed]"
          },
          "metadata": {
            "needs_background": "light"
          }
        }
      ]
    },
    {
      "cell_type": "code",
      "source": [],
      "metadata": {
        "id": "kaCBlBs45Cad"
      },
      "execution_count": null,
      "outputs": []
    }
  ]
}